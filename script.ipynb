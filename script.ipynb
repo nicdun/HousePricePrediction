{
 "cells": [
  {
   "cell_type": "markdown",
   "metadata": {},
   "source": [
    "## Todos"
   ]
  },
  {
   "cell_type": "markdown",
   "metadata": {},
   "source": [
    "auf git comitten (mit reqirements.txt)\n",
    "in methode auslagern\n",
    "data download script\n",
    "blog artikel"
   ]
  },
  {
   "cell_type": "code",
   "execution_count": 1,
   "metadata": {
    "scrolled": true
   },
   "outputs": [
    {
     "name": "stderr",
     "output_type": "stream",
     "text": [
      "/Users/Nicolas/anaconda3/envs/DSfromScratch/lib/python3.6/site-packages/sklearn/ensemble/weight_boosting.py:29: DeprecationWarning: numpy.core.umath_tests is an internal NumPy module and should not be imported. It will be removed in a future NumPy release.\n",
      "  from numpy.core.umath_tests import inner1d\n"
     ]
    }
   ],
   "source": [
    "import pandas as pd \n",
    "import numpy as np\n",
    "import matplotlib.pyplot as plt\n",
    "import seaborn as sns\n",
    "from math import sqrt\n",
    "\n",
    "from sklearn.model_selection import train_test_split\n",
    "from sklearn import linear_model\n",
    "from sklearn import metrics\n",
    "from sklearn.ensemble import RandomForestRegressor\n",
    "from sklearn.feature_selection import SelectPercentile,f_regression\n",
    "from sklearn.preprocessing import MinMaxScaler\n",
    "import requests"
   ]
  },
  {
   "cell_type": "code",
   "execution_count": 2,
   "metadata": {},
   "outputs": [],
   "source": [
    "plt.rcParams['figure.figsize'] = [10, 5]"
   ]
  },
  {
   "cell_type": "markdown",
   "metadata": {},
   "source": [
    "# Predicting the house price by regression model"
   ]
  },
  {
   "cell_type": "markdown",
   "metadata": {},
   "source": [
    "## Data Import"
   ]
  },
  {
   "cell_type": "code",
   "execution_count": 3,
   "metadata": {
    "scrolled": true
   },
   "outputs": [],
   "source": [
    "# The direct link to the Kaggle data set\n",
    "data_url_train = 'https://www.kaggle.com/c/house-prices-advanced-regression-techniques/download/train.csv'\n",
    "\n",
    "# The local path where the data set is saved.\n",
    "local_filename_train = \"train.csv\"\n",
    "\n",
    "# Kaggle Username and Password\n",
    "kaggle_info = {'UserName': \"my_username\", 'Password': \"my_password\"}\n",
    "\n",
    "# Attempts to download the CSV file. Gets rejected because we are not logged in.\n",
    "r = requests.get(data_url_train)\n",
    "\n",
    "# Login to Kaggle and retrieve the data.\n",
    "r = requests.post(r.url, data = kaggle_info, prefetch = False)\n",
    "\n",
    "# Writes the data to a local file one chunk at a time.\n",
    "f = open(local_filename, 'w')\n",
    "for chunk in r.iter_content(chunk_size = 512 * 1024): # Reads 512KB at a time into memory\n",
    "    if chunk: # filter out keep-alive new chunks\n",
    "        f.write(chunk)\n",
    "f.close()"
   ]
  },
  {
   "cell_type": "code",
   "execution_count": 4,
   "metadata": {
    "scrolled": true
   },
   "outputs": [
    {
     "data": {
      "text/html": [
       "<div>\n",
       "<style scoped>\n",
       "    .dataframe tbody tr th:only-of-type {\n",
       "        vertical-align: middle;\n",
       "    }\n",
       "\n",
       "    .dataframe tbody tr th {\n",
       "        vertical-align: top;\n",
       "    }\n",
       "\n",
       "    .dataframe thead th {\n",
       "        text-align: right;\n",
       "    }\n",
       "</style>\n",
       "<table border=\"1\" class=\"dataframe\">\n",
       "  <thead>\n",
       "    <tr style=\"text-align: right;\">\n",
       "      <th></th>\n",
       "      <th>Id</th>\n",
       "      <th>MSSubClass</th>\n",
       "      <th>MSZoning</th>\n",
       "      <th>LotFrontage</th>\n",
       "      <th>LotArea</th>\n",
       "      <th>Street</th>\n",
       "      <th>Alley</th>\n",
       "      <th>LotShape</th>\n",
       "      <th>LandContour</th>\n",
       "      <th>Utilities</th>\n",
       "      <th>...</th>\n",
       "      <th>PoolArea</th>\n",
       "      <th>PoolQC</th>\n",
       "      <th>Fence</th>\n",
       "      <th>MiscFeature</th>\n",
       "      <th>MiscVal</th>\n",
       "      <th>MoSold</th>\n",
       "      <th>YrSold</th>\n",
       "      <th>SaleType</th>\n",
       "      <th>SaleCondition</th>\n",
       "      <th>SalePrice</th>\n",
       "    </tr>\n",
       "  </thead>\n",
       "  <tbody>\n",
       "    <tr>\n",
       "      <th>754</th>\n",
       "      <td>755</td>\n",
       "      <td>20</td>\n",
       "      <td>RL</td>\n",
       "      <td>61.0</td>\n",
       "      <td>7930</td>\n",
       "      <td>Pave</td>\n",
       "      <td>NaN</td>\n",
       "      <td>Reg</td>\n",
       "      <td>Lvl</td>\n",
       "      <td>AllPub</td>\n",
       "      <td>...</td>\n",
       "      <td>0</td>\n",
       "      <td>NaN</td>\n",
       "      <td>NaN</td>\n",
       "      <td>NaN</td>\n",
       "      <td>0</td>\n",
       "      <td>7</td>\n",
       "      <td>2009</td>\n",
       "      <td>WD</td>\n",
       "      <td>Normal</td>\n",
       "      <td>156000</td>\n",
       "    </tr>\n",
       "  </tbody>\n",
       "</table>\n",
       "<p>1 rows × 81 columns</p>\n",
       "</div>"
      ],
      "text/plain": [
       "      Id  MSSubClass MSZoning  LotFrontage  LotArea Street Alley LotShape  \\\n",
       "754  755          20       RL         61.0     7930   Pave   NaN      Reg   \n",
       "\n",
       "    LandContour Utilities    ...     PoolArea PoolQC Fence MiscFeature  \\\n",
       "754         Lvl    AllPub    ...            0    NaN   NaN         NaN   \n",
       "\n",
       "    MiscVal MoSold YrSold  SaleType  SaleCondition  SalePrice  \n",
       "754       0      7   2009        WD         Normal     156000  \n",
       "\n",
       "[1 rows x 81 columns]"
      ]
     },
     "execution_count": 4,
     "metadata": {},
     "output_type": "execute_result"
    }
   ],
   "source": [
    "df_train.sample(1)"
   ]
  },
  {
   "cell_type": "markdown",
   "metadata": {},
   "source": [
    "## Data Splitting"
   ]
  },
  {
   "cell_type": "code",
   "execution_count": 5,
   "metadata": {},
   "outputs": [
    {
     "name": "stdout",
     "output_type": "stream",
     "text": [
      "train data size before dropping Id feature: (1460, 81) \n",
      "test data size before dropping Id feature: (1459, 80) \n"
     ]
    }
   ],
   "source": [
    "#check the numbers of samples and features\n",
    "print(\"train data size before dropping Id feature: {} \".format(df_train.shape))\n",
    "print(\"test data size before dropping Id feature: {} \".format(df_test.shape))"
   ]
  },
  {
   "cell_type": "code",
   "execution_count": 6,
   "metadata": {},
   "outputs": [],
   "source": [
    "#Save df and test ID\n",
    "train_ID = df_train['Id']\n",
    "test_ID = df_test['Id']\n",
    "\n",
    "#safe features\n",
    "feature_names = list(df_train)\n",
    "\n",
    "#Now drop the  'Id' colum since it's unnecessary for  the prediction process.\n",
    "df_train.drop('Id', axis = 1, inplace = True)\n",
    "#df_test.drop('Id', axis = 1, inplace = True)"
   ]
  },
  {
   "cell_type": "code",
   "execution_count": 12,
   "metadata": {},
   "outputs": [],
   "source": [
    "#preprocess train and test\n",
    "train = data_preprocess(df_train)\n",
    "test = data_preprocess(df_test)"
   ]
  },
  {
   "cell_type": "code",
   "execution_count": null,
   "metadata": {},
   "outputs": [],
   "source": []
  },
  {
   "cell_type": "code",
   "execution_count": 13,
   "metadata": {},
   "outputs": [
    {
     "name": "stdout",
     "output_type": "stream",
     "text": [
      "train data size after dropping Id feature: (1460, 80) \n",
      "test data size after dropping Id feature: (1459, 80) \n"
     ]
    }
   ],
   "source": [
    "#Check the numbers of samples and features after drop 'Id'\n",
    "print(\"train data size after dropping Id feature: {} \".format(df_train.shape))\n",
    "print(\"test data size after dropping Id feature: {} \".format(df_test.shape))"
   ]
  },
  {
   "cell_type": "markdown",
   "metadata": {},
   "source": [
    "## Analyze the data"
   ]
  },
  {
   "cell_type": "code",
   "execution_count": null,
   "metadata": {
    "scrolled": true
   },
   "outputs": [],
   "source": [
    "sns.scatterplot(train['GrLivArea'], train['SalePrice'])"
   ]
  },
  {
   "cell_type": "markdown",
   "metadata": {},
   "source": [
    "## Data Preprocessing"
   ]
  },
  {
   "cell_type": "code",
   "execution_count": 7,
   "metadata": {},
   "outputs": [],
   "source": [
    "def data_preprocess(df):\n",
    "    if 'SalePrice' in df:\n",
    "        df = log_target(df)\n",
    "        df = remove_outlier(df)\n",
    "    df = remove_nans(df)\n",
    "    df = feature_engineering(df)\n",
    "    return df"
   ]
  },
  {
   "cell_type": "code",
   "execution_count": 8,
   "metadata": {},
   "outputs": [],
   "source": [
    "def log_target(df):\n",
    "    #show the distribution of the target\n",
    "    \n",
    "    #log1n the target 'SalePrice'\n",
    "    df[\"SalePrice\"] = np.log1p(df[\"SalePrice\"])\n",
    "    \n",
    "    #sns.distplot(df['SalePrice'])\n",
    "    \n",
    "    return df"
   ]
  },
  {
   "cell_type": "markdown",
   "metadata": {},
   "source": [
    "### Remove outliers"
   ]
  },
  {
   "cell_type": "code",
   "execution_count": 9,
   "metadata": {},
   "outputs": [],
   "source": [
    "def remove_outlier(df):  \n",
    "    #Check the GrLivArea of the houses to find outliers\n",
    "    #sns.scatterplot(df['GrLivArea'], df['SalePrice'])\n",
    "    \n",
    "    #Remove 'GrLivArea' Outliers over 4000 square feet because there are two outliers\n",
    "    df = df.drop(df[(df['GrLivArea']>4000) & (df['SalePrice']<300000)].index)\n",
    "    \n",
    "    #Check the LotArea of the houses to find outliers\n",
    "    #sns.scatterplot(df['LotArea'], df['SalePrice'])\n",
    "    \n",
    "    #Remove 'LotArea' Outliers over 100000 square feet because there are four outliers\n",
    "    df = df.drop(df[(df['LotArea']>100000)].index)\n",
    "    \n",
    "    return df"
   ]
  },
  {
   "cell_type": "markdown",
   "metadata": {},
   "source": [
    "### Handling Missing Values"
   ]
  },
  {
   "cell_type": "code",
   "execution_count": 10,
   "metadata": {
    "scrolled": true
   },
   "outputs": [],
   "source": [
    "def remove_nans(df):\n",
    "    #get the % of missing values\n",
    "    missing_values = (df.isnull().sum()/len(df))*100\n",
    "\n",
    "    #make a df\n",
    "    missing_values_df = pd.DataFrame({'percent_missing': missing_values})\n",
    "\n",
    "    #sort df by 'percent_missing' in descending order and \n",
    "    missing_values_df.sort_values('percent_missing', inplace = True, ascending = False)\n",
    "\n",
    "    #store > 0 in missing_values_above_zero\n",
    "    missing_values_above_zero = missing_values_df[missing_values_df['percent_missing']>0]\n",
    "\n",
    "    #plot 'percent_missing'\n",
    "    #plot = sns.barplot(missing_values_above_zero.index, missing_values_above_zero['percent_missing'])\n",
    "    #plot.set(xlabel='Features')\n",
    "    #for item in plot.get_xticklabels():\n",
    "        #item.set_rotation(45)\n",
    "        \n",
    "    #1. PoolQC -> NA means no Pool (data description) -> fill with \"None\"\n",
    "    df['PoolQC'] = df['PoolQC'].fillna(\"None\")\n",
    "\n",
    "    #2. MiscFeature -> NA means no other feature that is covered by a feature (data description) -> fill with \"None\"\n",
    "    df['MiscFeature'] = df['MiscFeature'].fillna(\"None\")\n",
    "\n",
    "    #3. Alley -> NA means no access to alley (data description) -> fill with \"None\"\n",
    "    df['Alley'] = df['Alley'].fillna(\"None\")\n",
    "\n",
    "    #4. Fence -> NA means no fence (data description) -> fill with \"None\"\n",
    "    df['Fence'] = df['Fence'].fillna(\"None\")\n",
    "\n",
    "    #5. FireplaceQu -> NA means no FireplaceQu (data description) -> fill with \"None\"\n",
    "    df['FireplaceQu'] = df['FireplaceQu'].fillna(\"None\")\n",
    "\n",
    "    #6. LotFrontage -> missing LotFrontage could be filled with the median of the neighboors LotFrontage\n",
    "    df['LotFrontage'] = df.groupby('Neighborhood')['LotFrontage'].transform(lambda x: x.fillna(x.median()))\n",
    "\n",
    "    #7. Garage String Features -> if missing than no garage (data description) -> fill with \"None\"\n",
    "    for col in ('GarageCond','GarageFinish','GarageQual','GarageType'):\n",
    "        df[col] = df[col].fillna(\"None\")\n",
    "\n",
    "    #8. Garage Number Features\n",
    "    df['GarageYrBlt'] = df['GarageYrBlt'].fillna(\"None\")\n",
    "\n",
    "    #9. Bsmt Features -> if NA than there is no Basement (data description) -> fill with \"None\"\n",
    "    for col in ('BsmtCond','BsmtFinType2','BsmtQual','BsmtExposure','BsmtFinType1'):\n",
    "        df[col] = df[col].fillna(\"None\")\n",
    "\n",
    "    #10. MasVnrType -> if NA than there is no MasVnr (data description) -> fill with \"None\"\n",
    "    df['MasVnrType'] = df['MasVnrType'].fillna(\"None\")\n",
    "    df['MasVnrArea'] = df['MasVnrArea'].fillna(0)\n",
    "\n",
    "    #11. Electrical -> fill NA with SBrKr because most of the Values are that (>90%)\n",
    "    df['Electrical'] = df['Electrical'].fillna('SBrKr')\n",
    "\n",
    "    for n,c in df.items():\n",
    "        if df[n].dtype=='object' or df[n].dtype=='str': \n",
    "            df[n] = pd.Categorical(df[n])\n",
    "            df[n] = df[n].cat.codes\n",
    "            \n",
    "    return df"
   ]
  },
  {
   "cell_type": "markdown",
   "metadata": {},
   "source": [
    "## Feature Engineering"
   ]
  },
  {
   "cell_type": "code",
   "execution_count": 11,
   "metadata": {},
   "outputs": [],
   "source": [
    "def feature_engineering(df):   \n",
    "    #create new Feature 'LivingArea' by SUM 'TotalBsmtSF', '1stFlrSF', '2ndFlrSF'\n",
    "    df['TotalArea'] = df['GrLivArea'] + df['1stFlrSF'] + df['1stFlrSF']\n",
    "    return df"
   ]
  },
  {
   "cell_type": "code",
   "execution_count": 14,
   "metadata": {},
   "outputs": [],
   "source": [
    "#Split features and targets for creating a validation dataset\n",
    "#X_train = train.loc[:, train.columns != 'SalePrice']\n",
    "#y_train = train['SalePrice'].values\n",
    "\n",
    "X = train.loc[:, train.columns != 'SalePrice']\n",
    "y = train['SalePrice'].values\n",
    "\n",
    "# train and valid split\n",
    "X_train, X_test, y_train, y_test = train_test_split(X, y, test_size=0.2, random_state=42)\n",
    "\n",
    "#X_test = test"
   ]
  },
  {
   "cell_type": "code",
   "execution_count": 15,
   "metadata": {},
   "outputs": [
    {
     "data": {
      "text/plain": [
       "<matplotlib.collections.PathCollection at 0x1a1e275cc0>"
      ]
     },
     "execution_count": 15,
     "metadata": {},
     "output_type": "execute_result"
    },
    {
     "data": {
      "image/png": "[encoded data removed]",
      "text/plain": [
       "<Figure size 720x360 with 1 Axes>"
      ]
     },
     "metadata": {
      "needs_background": "light"
     },
     "output_type": "display_data"
    }
   ],
   "source": [
    "#Show the distribution of df and validation dataset\n",
    "indices = [ x for x in range(0, len(X_test))]\n",
    "plt.scatter(indices[:200], y_train[:200],  color='blue')\n",
    "plt.scatter(indices[:200], y_test[:200], color='green')"
   ]
  },
  {
   "cell_type": "markdown",
   "metadata": {},
   "source": [
    "## 4. linear regression"
   ]
  },
  {
   "cell_type": "code",
   "execution_count": 16,
   "metadata": {
    "scrolled": true
   },
   "outputs": [],
   "source": [
    "reg = linear_model.LinearRegression()"
   ]
  },
  {
   "cell_type": "code",
   "execution_count": 17,
   "metadata": {
    "scrolled": true
   },
   "outputs": [
    {
     "data": {
      "text/plain": [
       "LinearRegression(copy_X=True, fit_intercept=True, n_jobs=1, normalize=False)"
      ]
     },
     "execution_count": 17,
     "metadata": {},
     "output_type": "execute_result"
    }
   ],
   "source": [
    "reg.fit(X_train, y_train)"
   ]
  },
  {
   "cell_type": "code",
   "execution_count": 18,
   "metadata": {
    "scrolled": true
   },
   "outputs": [],
   "source": [
    "y_pred = reg.predict(X_test)"
   ]
  },
  {
   "cell_type": "code",
   "execution_count": 19,
   "metadata": {
    "scrolled": true
   },
   "outputs": [
    {
     "data": {
      "text/plain": [
       "<matplotlib.collections.PathCollection at 0x1a1ef2a160>"
      ]
     },
     "execution_count": 19,
     "metadata": {},
     "output_type": "execute_result"
    },
    {
     "data": {
      "image/png": "[encoded data removed]",
      "text/plain": [
       "<Figure size 720x360 with 1 Axes>"
      ]
     },
     "metadata": {
      "needs_background": "light"
     },
     "output_type": "display_data"
    }
   ],
   "source": [
    "plt.scatter(indices[:50], y_test[:50],  color='blue')\n",
    "plt.scatter(indices[:50], y_pred[:50], color='red')"
   ]
  },
  {
   "cell_type": "code",
   "execution_count": 22,
   "metadata": {
    "scrolled": true
   },
   "outputs": [
    {
     "name": "stdout",
     "output_type": "stream",
     "text": [
      "0.12819161676341578\n"
     ]
    }
   ],
   "source": [
    "print(rmse(y_pred, y_test))"
   ]
  },
  {
   "cell_type": "code",
   "execution_count": 23,
   "metadata": {
    "scrolled": true
   },
   "outputs": [],
   "source": [
    "columns = X_train.columns\n",
    "coefs = reg.coef_"
   ]
  },
  {
   "cell_type": "markdown",
   "metadata": {},
   "source": [
    "## 5. random forest regressor"
   ]
  },
  {
   "cell_type": "code",
   "execution_count": null,
   "metadata": {
    "scrolled": true
   },
   "outputs": [],
   "source": [
    "m = RandomForestRegressor(n_jobs=-1,n_estimators=100, min_samples_split=2, min_samples_leaf=2,max_features=0.5)"
   ]
  },
  {
   "cell_type": "code",
   "execution_count": null,
   "metadata": {
    "scrolled": true
   },
   "outputs": [],
   "source": [
    "m.fit(X_train, y_train)"
   ]
  },
  {
   "cell_type": "code",
   "execution_count": null,
   "metadata": {
    "scrolled": true
   },
   "outputs": [],
   "source": [
    "pred_rf = m.predict(X_test)"
   ]
  },
  {
   "cell_type": "code",
   "execution_count": null,
   "metadata": {
    "scrolled": true
   },
   "outputs": [],
   "source": [
    "rmse(pred_rf, y_test)"
   ]
  },
  {
   "cell_type": "markdown",
   "metadata": {},
   "source": [
    "# usefull stuff"
   ]
  },
  {
   "cell_type": "code",
   "execution_count": null,
   "metadata": {
    "scrolled": true
   },
   "outputs": [],
   "source": [
    "def display_all(df):\n",
    "    with pd.option_context(\"display.max_rows\", 1000, \"display.max_columns\", 1000): \n",
    "        display(df)"
   ]
  },
  {
   "cell_type": "code",
   "execution_count": 21,
   "metadata": {
    "scrolled": true
   },
   "outputs": [],
   "source": [
    "def rmse(y_pred, y_valid):\n",
    "    rmse = (sqrt(metrics.mean_squared_error(y_pred, y_valid)))\n",
    "    return(rmse)"
   ]
  },
  {
   "cell_type": "code",
   "execution_count": null,
   "metadata": {
    "scrolled": true
   },
   "outputs": [],
   "source": [
    "def remove_correlated_variables(data, columns, inplace = False):\n",
    "    # calculate the correlation matrix for the features only\n",
    "    df_corr = data.corr(method='spearman')\n",
    "    # create a mask to ignore self-correlation\n",
    "    mask = np.ones(df_corr.columns.size) - np.eye(df_corr.columns.size)\n",
    "    df_corr = mask * df_corr\n",
    "    \n",
    "    drops = []\n",
    "    # loop through each variable, drop the target from analysis though\n",
    "    for col in df_corr.columns.values:\n",
    "        # if we've already determined to drop the current variable, continue\n",
    "        if np.isin([col], drops):\n",
    "            continue\n",
    "        # find all the variables that are highly correlated with the current variable\n",
    "        # and add them to the drop list\n",
    "        corr = df_corr[abs(df_corr[col]) > 0.8].index #remove all above 0.9x correlation-we varied x for tests\n",
    "        drops = np.union1d(drops, corr)\n",
    "    \n",
    "    print(\"\\nDropping\", drops.shape[0], \"highly correlated features...n\", drops)\n",
    "    return data.drop(drops, axis=1, inplace=inplace)"
   ]
  }
 ],
 "metadata": {
  "kernelspec": {
   "display_name": "Python 3",
   "language": "python",
   "name": "python3"
  },
  "language_info": {
   "codemirror_mode": {
    "name": "ipython",
    "version": 3
   },
   "file_extension": ".py",
   "mimetype": "text/x-python",
   "name": "python",
   "nbconvert_exporter": "python",
   "pygments_lexer": "ipython3",
   "version": "3.6.6"
  }
 },
 "nbformat": 4,
 "nbformat_minor": 2
}
